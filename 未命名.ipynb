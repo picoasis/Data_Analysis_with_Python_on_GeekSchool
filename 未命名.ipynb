{
 "cells": [
  {
   "cell_type": "code",
   "execution_count": null,
   "id": "3a0a50cb",
   "metadata": {},
   "outputs": [],
   "source": [
    "# -*- coding: utf-8 -*-\n",
    "import numpy as np\n",
    "\n",
    " #初始化\n",
    "score_dtype = np.dtype({\n",
    " \t'names':['name','chinese','english','math','total','rank'],\n",
    " \t'formats':['S32','i','i','i','i','i']})\n",
    "scores = np.array([\n",
    "\t('ZhangFei',66,65,30,0,0),\n",
    "\t('GuanYu',95,85,98,0,0),\n",
    "\t('ZhaoYun',93,92,96,0,0),\n",
    "\t('HuangZhong',90,88,77,0,0),\n",
    "\t('DianWei',80,90,90,0,0)\n",
    "\t],dtype = score_dtype)\n"
   ]
  },
  {
   "cell_type": "code",
   "execution_count": null,
   "id": "e8d0f979",
   "metadata": {},
   "outputs": [],
   "source": [
    "scores"
   ]
  },
  {
   "cell_type": "code",
   "execution_count": null,
   "id": "d6e62025",
   "metadata": {},
   "outputs": [],
   "source": []
  }
 ],
 "metadata": {
  "kernelspec": {
   "display_name": "Python 3",
   "language": "python",
   "name": "python3"
  },
  "language_info": {
   "codemirror_mode": {
    "name": "ipython",
    "version": 3
   },
   "file_extension": ".py",
   "mimetype": "text/x-python",
   "name": "python",
   "nbconvert_exporter": "python",
   "pygments_lexer": "ipython3",
   "version": "3.8.8"
  }
 },
 "nbformat": 4,
 "nbformat_minor": 5
}
