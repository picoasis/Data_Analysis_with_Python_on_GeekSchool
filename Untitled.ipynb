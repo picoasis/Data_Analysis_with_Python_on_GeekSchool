{
 "cells": [
  {
   "cell_type": "code",
   "execution_count": 1,
   "id": "2417fb06",
   "metadata": {},
   "outputs": [],
   "source": [
    "# -*- coding: utf-8 -*-\n",
    "import numpy as np\n",
    "\n",
    " #初始化\n",
    "score_dtype = np.dtype({\n",
    " \t'names':['name','chinese','english','math','total','rank'],\n",
    " \t'formats':['S32','i','i','i','i','i']})"
   ]
  },
  {
   "cell_type": "code",
   "execution_count": 2,
   "id": "44be5675",
   "metadata": {},
   "outputs": [],
   "source": [
    "scores = np.array([\n",
    "\t('ZhangFei',66,65,30,0,0),\n",
    "\t('GuanYu',95,85,98,0,0),\n",
    "\t('ZhaoYun',93,92,96,0,0),\n",
    "\t('HuangZhong',90,88,77,0,0),\n",
    "\t('DianWei',80,90,90,0,0)\n",
    "\t],dtype = score_dtype)\n",
    "\n",
    "cn_sc = scores['chinese']\n",
    "en_sc = scores['english']\n",
    "mt_sc = scores['math']\n",
    "scores['total']= cn_sc + en_sc + mt_sc  #??? 引用字段名称产生的数组，是原始数组的视图，会改变原始数组呀\n",
    "# ranking = np.sort(scores, order='total' )\n",
    "ranking= sorted(scores,reverse=True,key = lambda x:x['total'])\n"
   ]
  },
  {
   "cell_type": "code",
   "execution_count": 3,
   "id": "7de622ac",
   "metadata": {},
   "outputs": [
    {
     "data": {
      "text/plain": [
       "array([(b'ZhangFei', 66, 65, 30, 161, 0), (b'GuanYu', 95, 85, 98, 278, 0),\n",
       "       (b'ZhaoYun', 93, 92, 96, 281, 0),\n",
       "       (b'HuangZhong', 90, 88, 77, 255, 0),\n",
       "       (b'DianWei', 80, 90, 90, 260, 0)],\n",
       "      dtype=[('name', 'S32'), ('chinese', '<i4'), ('english', '<i4'), ('math', '<i4'), ('total', '<i4'), ('rank', '<i4')])"
      ]
     },
     "execution_count": 3,
     "metadata": {},
     "output_type": "execute_result"
    }
   ],
   "source": [
    "scores"
   ]
  },
  {
   "cell_type": "code",
   "execution_count": 4,
   "id": "d3493fdf",
   "metadata": {},
   "outputs": [
    {
     "name": "stdout",
     "output_type": "stream",
     "text": [
      "[(b'ZhangFei', 66, 65, 30, 161, 0) (b'GuanYu', 95, 85, 98, 278, 0)\n",
      " (b'ZhaoYun', 93, 92, 96, 281, 0) (b'HuangZhong', 90, 88, 77, 255, 0)\n",
      " (b'DianWei', 80, 90, 90, 260, 0)]\n"
     ]
    }
   ],
   "source": [
    "print(scores)"
   ]
  },
  {
   "cell_type": "code",
   "execution_count": 5,
   "id": "eb01ae1e",
   "metadata": {},
   "outputs": [],
   "source": [
    "i = 1\n",
    "N = len(scores)\n",
    "ranks=np.zeros(N)\n",
    "while i <= N:\n",
    "\tranks[i-1]=i\n",
    "\ti+=1\n",
    "\n",
    "scores['rank'] = ranks"
   ]
  },
  {
   "cell_type": "code",
   "execution_count": 7,
   "id": "7754a4c7",
   "metadata": {},
   "outputs": [
    {
     "name": "stdout",
     "output_type": "stream",
     "text": [
      "[(b'ZhangFei', 66, 65, 30, 161, 1) (b'GuanYu', 95, 85, 98, 278, 2)\n",
      " (b'ZhaoYun', 93, 92, 96, 281, 3) (b'HuangZhong', 90, 88, 77, 255, 4)\n",
      " (b'DianWei', 80, 90, 90, 260, 5)]\n"
     ]
    }
   ],
   "source": [
    "print(scores)"
   ]
  },
  {
   "cell_type": "code",
   "execution_count": 8,
   "id": "5b9ad17e",
   "metadata": {},
   "outputs": [
    {
     "name": "stdout",
     "output_type": "stream",
     "text": [
      "[(b'ZhangFei', 66, 65, 30, 161, 1) (b'GuanYu', 95, 85, 98, 278, 2)\n",
      " (b'ZhaoYun', 93, 92, 96, 281, 3) (b'HuangZhong', 90, 88, 77, 255, 4)\n",
      " (b'DianWei', 80, 90, 90, 260, 5)]\n",
      "科目|平均成绩|最小成绩|最大成绩|方差|标准差\n",
      "语文 | 84.8 | 66 | 95 | 114.96 | 10.72\n",
      "数学 | 78.2 | 30 | 98 | 634.56 | 25.19\n",
      "英语 | 84.0 | 65 | 92 | 95.60 | 9.78\n"
     ]
    }
   ],
   "source": [
    "# -*- coding: utf-8 -*-\n",
    "import numpy as np\n",
    "\n",
    " #初始化\n",
    "score_dtype = np.dtype({\n",
    " \t'names':['name','chinese','english','math','total','rank'],\n",
    " \t'formats':['S32','i','i','i','i','i']})\n",
    "scores = np.array([\n",
    "\t('ZhangFei',66,65,30,0,0),\n",
    "\t('GuanYu',95,85,98,0,0),\n",
    "\t('ZhaoYun',93,92,96,0,0),\n",
    "\t('HuangZhong',90,88,77,0,0),\n",
    "\t('DianWei',80,90,90,0,0)\n",
    "\t],dtype = score_dtype)\n",
    "\n",
    "cn_sc = scores['chinese']\n",
    "en_sc = scores['english']\n",
    "mt_sc = scores['math']\n",
    "scores['total']= cn_sc + en_sc + mt_sc  #??? 引用字段名称产生的数组，是原始数组的视图，会改变原始数组呀\n",
    "# ranking = np.sort(scores, order='total' )\n",
    "ranking= sorted(scores,reverse=True,key = lambda x:x['total'])\n",
    "\n",
    "i = 1\n",
    "N = len(scores)\n",
    "ranks=np.zeros(N)\n",
    "while i <= N:\n",
    "\tranks[i-1]=i\n",
    "\ti+=1\n",
    "\n",
    "scores['rank'] = ranks\n",
    "print (scores)\n",
    "\n",
    "\n",
    "def show(xkname,xkscore):\n",
    "\tprint('{} | {} | {} | {} | {:.2f} | {:.2f}'\n",
    "\t\t.format(xkname,np.mean(xkscore),np.min(xkscore),np.max(xkscore),np.var(xkscore),np.std(xkscore)))\n",
    "\n",
    "print(\"科目|平均成绩|最小成绩|最大成绩|方差|标准差\")\n",
    "show('语文',cn_sc )\n",
    "show('数学',mt_sc)\n",
    "show('英语',en_sc)\n",
    "\n",
    "\t"
   ]
  },
  {
   "cell_type": "code",
   "execution_count": 9,
   "id": "fc0b5620",
   "metadata": {},
   "outputs": [
    {
     "name": "stdout",
     "output_type": "stream",
     "text": [
      "\n"
     ]
    }
   ],
   "source": [
    "print (''.format(*scores))"
   ]
  },
  {
   "cell_type": "code",
   "execution_count": 10,
   "id": "7274433b",
   "metadata": {},
   "outputs": [
    {
     "ename": "SyntaxError",
     "evalue": "can't use starred expression here (<ipython-input-10-519ed45b7ef7>, line 1)",
     "output_type": "error",
     "traceback": [
      "\u001b[0;36m  File \u001b[0;32m\"<ipython-input-10-519ed45b7ef7>\"\u001b[0;36m, line \u001b[0;32m1\u001b[0m\n\u001b[0;31m    *scores\u001b[0m\n\u001b[0m    ^\u001b[0m\n\u001b[0;31mSyntaxError\u001b[0m\u001b[0;31m:\u001b[0m can't use starred expression here\n"
     ]
    }
   ],
   "source": [
    "*scores"
   ]
  },
  {
   "cell_type": "code",
   "execution_count": 11,
   "id": "a30ab44b",
   "metadata": {},
   "outputs": [
    {
     "ename": "SyntaxError",
     "evalue": "invalid syntax (<ipython-input-11-c7c8b061d75a>, line 1)",
     "output_type": "error",
     "traceback": [
      "\u001b[0;36m  File \u001b[0;32m\"<ipython-input-11-c7c8b061d75a>\"\u001b[0;36m, line \u001b[0;32m1\u001b[0m\n\u001b[0;31m    **scores\u001b[0m\n\u001b[0m    ^\u001b[0m\n\u001b[0;31mSyntaxError\u001b[0m\u001b[0;31m:\u001b[0m invalid syntax\n"
     ]
    }
   ],
   "source": [
    "**scores"
   ]
  },
  {
   "cell_type": "code",
   "execution_count": 12,
   "id": "6b2c1b1a",
   "metadata": {},
   "outputs": [
    {
     "name": "stdout",
     "output_type": "stream",
     "text": [
      "\n"
     ]
    }
   ],
   "source": [
    "print ('{0[0]} | {0|1}'.format(scores))"
   ]
  },
  {
   "cell_type": "code",
   "execution_count": 14,
   "id": "3873add0",
   "metadata": {},
   "outputs": [
    {
     "name": "stdout",
     "output_type": "stream",
     "text": [
      "(b'ZhangFei', 66, 65, 30, 161, 1) | (b'GuanYu', 95, 85, 98, 278, 2)\n"
     ]
    }
   ],
   "source": [
    "print ('{0[0]} | {0[1]}'.format(scores))"
   ]
  },
  {
   "cell_type": "code",
   "execution_count": 15,
   "id": "be657b26",
   "metadata": {},
   "outputs": [
    {
     "ename": "SyntaxError",
     "evalue": "invalid character in identifier (<ipython-input-15-9888be9f19ea>, line 1)",
     "output_type": "error",
     "traceback": [
      "\u001b[0;36m  File \u001b[0;32m\"<ipython-input-15-9888be9f19ea>\"\u001b[0;36m, line \u001b[0;32m1\u001b[0m\n\u001b[0;31m    students = [(‘john’, ‘A’, 15), (‘jane’, ‘B’, 12), (‘dave’, ‘B’, 10)]\u001b[0m\n\u001b[0m                      ^\u001b[0m\n\u001b[0;31mSyntaxError\u001b[0m\u001b[0;31m:\u001b[0m invalid character in identifier\n"
     ]
    }
   ],
   "source": [
    "students = [(‘john’, ‘A’, 15), (‘jane’, ‘B’, 12), (‘dave’, ‘B’, 10)]\n",
    "sorted(students, key=lambda student : student[2])"
   ]
  },
  {
   "cell_type": "code",
   "execution_count": 17,
   "id": "5dcecf85",
   "metadata": {},
   "outputs": [
    {
     "data": {
      "text/plain": [
       "[(b'ZhangFei', 66, 65, 30, 161, 1),\n",
       " (b'GuanYu', 95, 85, 98, 278, 2),\n",
       " (b'HuangZhong', 90, 88, 77, 255, 4),\n",
       " (b'DianWei', 80, 90, 90, 260, 5),\n",
       " (b'ZhaoYun', 93, 92, 96, 281, 3)]"
      ]
     },
     "execution_count": 17,
     "metadata": {},
     "output_type": "execute_result"
    }
   ],
   "source": [
    "sorted(scores, key = lambda a : a[2])"
   ]
  },
  {
   "cell_type": "code",
   "execution_count": 18,
   "id": "c538bb9c",
   "metadata": {},
   "outputs": [],
   "source": [
    "sdtype={'names':['name','score','age'],\n",
    "        'formats':['S32','S32','i'] }\n",
    "student_tuples = np.array([\n",
    "    ('john', 'A', 15),\n",
    "    ('jane', 'B', 12),\n",
    "    ('dave', 'B', 10),\n",
    "],dtype=sdtype)"
   ]
  },
  {
   "cell_type": "code",
   "execution_count": 19,
   "id": "dc1054df",
   "metadata": {},
   "outputs": [
    {
     "data": {
      "text/plain": [
       "array([(b'john', b'A', 15), (b'jane', b'B', 12), (b'dave', b'B', 10)],\n",
       "      dtype=[('name', 'S32'), ('score', 'S32'), ('age', '<i4')])"
      ]
     },
     "execution_count": 19,
     "metadata": {},
     "output_type": "execute_result"
    }
   ],
   "source": [
    "student_tuples "
   ]
  },
  {
   "cell_type": "code",
   "execution_count": 20,
   "id": "38cb20a1",
   "metadata": {},
   "outputs": [
    {
     "data": {
      "text/plain": [
       "[('dave', 'B', 10), ('jane', 'B', 12), ('john', 'A', 15)]"
      ]
     },
     "execution_count": 20,
     "metadata": {},
     "output_type": "execute_result"
    }
   ],
   "source": [
    "sdtype={'names':['name','score','age'],\n",
    "        'formats':['S32','S32','i'] }\n",
    "student_tuples = np.array([\n",
    "    ('john', 'A', 15),\n",
    "    ('jane', 'B', 12),\n",
    "    ('dave', 'B', 10),\n",
    "],dtype=sdtype)\n",
    "np.sort(student_tuples,order='age')   # sort by age\n",
    "[('dave', 'B', 10), ('jane', 'B', 12), ('john', 'A', 15)]"
   ]
  },
  {
   "cell_type": "code",
   "execution_count": 21,
   "id": "17629416",
   "metadata": {},
   "outputs": [
    {
     "data": {
      "text/plain": [
       "array([(b'dave', b'B', 10), (b'jane', b'B', 12), (b'john', b'A', 15)],\n",
       "      dtype=[('name', 'S32'), ('score', 'S32'), ('age', '<i4')])"
      ]
     },
     "execution_count": 21,
     "metadata": {},
     "output_type": "execute_result"
    }
   ],
   "source": [
    "sdtype={'names':['name','score','age'],\n",
    "        'formats':['S32','S32','i'] }\n",
    "student_tuples = np.array([\n",
    "    ('john', 'A', 15),\n",
    "    ('jane', 'B', 12),\n",
    "    ('dave', 'B', 10),\n",
    "],dtype=sdtype)\n",
    "np.sort(student_tuples,order='age') "
   ]
  },
  {
   "cell_type": "code",
   "execution_count": 22,
   "id": "74a3d144",
   "metadata": {},
   "outputs": [
    {
     "data": {
      "text/plain": [
       "[(b'dave', b'B', 10), (b'jane', b'B', 12), (b'john', b'A', 15)]"
      ]
     },
     "execution_count": 22,
     "metadata": {},
     "output_type": "execute_result"
    }
   ],
   "source": [
    "sorted(student_tuples, key=lambda student: student[2])"
   ]
  },
  {
   "cell_type": "code",
   "execution_count": 23,
   "id": "2c681d20",
   "metadata": {},
   "outputs": [],
   "source": [
    "reslut_sorted=sorted(student_tuples, key=lambda student: student[2])"
   ]
  },
  {
   "cell_type": "code",
   "execution_count": 26,
   "id": "c9bc8c7a",
   "metadata": {},
   "outputs": [],
   "source": [
    "reslut_npsort=np.sort(student_tuples,order='age') "
   ]
  },
  {
   "cell_type": "code",
   "execution_count": 27,
   "id": "942d67c4",
   "metadata": {},
   "outputs": [
    {
     "data": {
      "text/plain": [
       "dtype([('name', 'S32'), ('score', 'S32'), ('age', '<i4')])"
      ]
     },
     "execution_count": 27,
     "metadata": {},
     "output_type": "execute_result"
    }
   ],
   "source": [
    "reslut_npsort.dtype"
   ]
  },
  {
   "cell_type": "code",
   "execution_count": 28,
   "id": "cd48ac63",
   "metadata": {},
   "outputs": [
    {
     "data": {
      "text/plain": [
       "numpy.ndarray"
      ]
     },
     "execution_count": 28,
     "metadata": {},
     "output_type": "execute_result"
    }
   ],
   "source": [
    "type(reslut_npsort)"
   ]
  },
  {
   "cell_type": "code",
   "execution_count": 30,
   "id": "1ee65c09",
   "metadata": {},
   "outputs": [
    {
     "data": {
      "text/plain": [
       "list"
      ]
     },
     "execution_count": 30,
     "metadata": {},
     "output_type": "execute_result"
    }
   ],
   "source": [
    "type(reslut_sorted)"
   ]
  },
  {
   "cell_type": "code",
   "execution_count": null,
   "id": "76b6ddc9",
   "metadata": {},
   "outputs": [],
   "source": []
  }
 ],
 "metadata": {
  "kernelspec": {
   "display_name": "Python 3",
   "language": "python",
   "name": "python3"
  },
  "language_info": {
   "codemirror_mode": {
    "name": "ipython",
    "version": 3
   },
   "file_extension": ".py",
   "mimetype": "text/x-python",
   "name": "python",
   "nbconvert_exporter": "python",
   "pygments_lexer": "ipython3",
   "version": "3.8.8"
  }
 },
 "nbformat": 4,
 "nbformat_minor": 5
}
